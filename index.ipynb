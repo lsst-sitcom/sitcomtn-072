{
 "cells": [
  {
   "cell_type": "markdown",
   "id": "7c529988",
   "metadata": {},
   "source": [
    "Author: Chris Suberlak ([@suberlak](https://github.com/lsst-sitcom/sitcomtn-072/issues/new?body=@suberlak))\n",
    "\n",
    "Software Versions:\n",
    "\n",
    "* ts_wep: **v6.1.1**\n",
    "* lsst_distrib: **w_2023_19**"
   ]
  },
  {
   "cell_type": "markdown",
   "id": "1aadfbf8",
   "metadata": {},
   "source": [
    "# Introduction\n",
    "\n",
    "The Sensitivity Matrix is a way of quantifying the relationship between measured wavefront curvature (Zernike coefficients), and the required mechanical correction (mm of hexapod motion). As described in https://tstn-016.lsst.io/ , for auxiliary telescope (auxTel) it concerns the motion of the M2 mirror hexapod in one of three directions: x,y,z. `ts_wep` quantifies the wavefront using the annular Noll Zernike coefficients terms 4-22, called 4 (defocus), 5-6 (primary astigmatism),  7-8 (primary coma), 9-10 (trefoil), 11 (primary spherical), 12-13 (secondary astigmatism), 14-15 (quadrafoil), 16-17 (secondary coma), 18-19 (secondary trefoil), 20-21 (pentafoil), as illustrated on this image: \n",
    "\n",
    "\n",
    "<figure>\n",
    "<img src=\"zernike_noll.PNG\" alt=\"Noll Zernikes\" style=\"width:80%\">\n",
    "<figcaption style='text-align: center;'><b>Fig.1  Noll Zernike expansion</b></figcaption>\n",
    "</figure>\n",
    "\n",
    "\n",
    "\n",
    "  . For auxTel sensitivity matrix, we only use the defocus (`Z4`), and primary coma (`Z7`,`Z8`), as related to `dx`,`dy`,`dz` hexapod motion (with `dz` affecting primarily defocus term `Z4`,  `dx` the coma-x `Z7`,  and dy the coma-y `Z8`). \n",
    "\n",
    "$\\begin{bmatrix}\n",
    "\\tag{1}\n",
    "   dx \\\\\n",
    "   dy \\\\\n",
    "   dz\n",
    "   \\end{bmatrix}\n",
    "   =\n",
    "   \\begin{bmatrix}\n",
    "   C_{X}        & C_{YX} C_{Y} & C_{ZX} D_{Z} \\\\\n",
    "   C_{XY} C_{X} & C_{Y}        & C_{ZY} D_{Z} \\\\\n",
    "   C_{XZ} C_{X} & C_{YZ} C_{Y} &   D_{Z}\n",
    "   \\end{bmatrix}\n",
    "   \\times\n",
    "   \\begin{bmatrix}\n",
    "   Z7 & Z8 & Z4\n",
    "   \\end{bmatrix}$\n",
    "\n",
    "Due to tilts in the system, some of the cross-terms are non-zero (eg. $C_{ZY}$ measuring the impact of `dy` motion on `Z4` ). The original sensitivity matrix for auxTel was derived with data from 20200218, using a notebook [CWFS Sensitivity Matrix Determination](https://github.com/lsst-ts/ts_notebooks/blob/develop/procedures/CWFS_Sensitivity_Matrix_Determination.ipynb). The resulting sensitivity matrix was included in the [latiss_base_align](https://github.com/lsst-ts/ts_externalscripts/blob/a8d2a5191d2230d2875b44a881a878e4bca5cbd4/python/lsst/ts/externalscripts/auxtel/latiss_base_align.py#L120) script as \n",
    "\n",
    "```\n",
    "        self.matrix_sensitivity = [\n",
    "            [1.0 / 206.0, 0.0, 0.0],\n",
    "            [0.0, -1.0 / 206.0, -(109.0 / 206.0) / 4200],\n",
    "            [0.0, 0.0, 1.0 / 4200.0],\n",
    "        ]\n",
    "```\n",
    "\n",
    "In this notebook we show how this matrix can be updated with the auxTel data taken during the [March 10th, 2023 run](https://confluence.lsstcorp.org/display/LSSTCOM/2023-03-10+AuxTel+Night+Log). "
   ]
  },
  {
   "cell_type": "markdown",
   "id": "e83e64bc",
   "metadata": {},
   "source": [
    "# Setup\n",
    "\n",
    "* access to USDF devl nodes\n",
    "* working installation of ts_wep package ( see the following [notes](https://confluence.lsstcorp.org/display/LTS/Onboarding+to+LSST+AOS) on how to install and build the AOS packages)\n"
   ]
  },
  {
   "cell_type": "markdown",
   "id": "9ab4eabd",
   "metadata": {},
   "source": [
    "# Imports\n",
    "\n"
   ]
  },
  {
   "cell_type": "code",
   "execution_count": 1,
   "id": "45482664",
   "metadata": {},
   "outputs": [
    {
     "name": "stderr",
     "output_type": "stream",
     "text": [
      "INFO:numexpr.utils:Note: detected 128 virtual cores but NumExpr set to maximum of 64, check \"NUMEXPR_MAX_THREADS\" environment variable.\n",
      "INFO:numexpr.utils:Note: NumExpr detected 128 cores but \"NUMEXPR_MAX_THREADS\" not set, so enforcing safe limit of 8.\n",
      "INFO:numexpr.utils:NumExpr defaulting to 8 threads.\n"
     ]
    }
   ],
   "source": [
    "from lsst.daf.butler import Butler\n",
    "from lsst.ctrl.mpexec import SimplePipelineExecutor\n",
    "from lsst.pipe.base import Pipeline\n",
    "from lsst_efd_client import EfdClient\n",
    "import os\n",
    "os.environ['NUMEXPR_MAX_THREADS'] = '8'\n",
    "import subprocess\n",
    "import matplotlib as mpl\n",
    "import matplotlib.pyplot as plt\n",
    "import numpy as np\n",
    "from astropy.visualization import ZScaleInterval\n",
    "from astropy.time import Time, TimeDelta\n",
    "from astropy.table import Table\n",
    "from scipy.optimize import curve_fit\n",
    "from galsim.zernike import zernikeRotMatrix\n",
    "\n",
    "from numexpr.utils import log as numexpr_logger\n",
    "from logging import WARN\n",
    "numexpr_logger.setLevel(WARN)\n",
    "\n",
    "import pandas as pd\n",
    "import warnings\n",
    "# to prevent butler from displaying the username\n",
    "# with INFO:botocore.credentials\n",
    "warnings.filterwarnings('ignore') "
   ]
  },
  {
   "cell_type": "code",
   "execution_count": 2,
   "id": "aed0b3f8",
   "metadata": {},
   "outputs": [],
   "source": [
    "def line(x,b, m):\n",
    "    return b + m*x "
   ]
  },
  {
   "cell_type": "markdown",
   "id": "77f3e4fa",
   "metadata": {},
   "source": [
    "## Data\n",
    "\n",
    "The [observing run on 2023-03-10](https://confluence.lsstcorp.org/display/LSSTCOM/2023-03-10+AuxTel+Night+Log) included multiple tests, as described in [analyzeWepOutput](https://github.com/lsst-ts/ts_analysis_notebooks/blob/develop/notebooks/auxtel/observing_runs/20230310/analyzeWepOutput.ipynb) notebook.  . \n",
    "    In this tech note we only use the subset of [sequence numbers](https://roundtable.lsst.codes/rubintv/summit/auxtel/historical/2023-03-10)  pertaining to [sensitivity matrix calculation](https://jira.lsstcorp.org/browse/SITCOM-718), using as target HD66225 (observations taken first that night, using HD53897 as target, did not include the z-offsets, see [Night Log](https://confluence.lsstcorp.org/display/LSSTCOM/2023-03-10+AuxTel+Night+Log)). The sequence numbers 71-211 include the x/y, rx/ry, z, m1 pressure offsets. \n",
    "    \n",
    "The raw auxTel data  for `20230310` is in `LATISS/raw/all` collection in `/repo/embargo`. The information about exposure times  and angles needed to derotate the Zernikes is obtained from the Engineering Facility Database (EFD) via the [EFD client](https://efd-client.lsst.io/). \n"
   ]
  },
  {
   "cell_type": "markdown",
   "id": "8cc83482",
   "metadata": {},
   "source": [
    "## Find CWFS pairs "
   ]
  },
  {
   "cell_type": "markdown",
   "id": "2b9a0a4a",
   "metadata": {},
   "source": [
    "We find pairs of defocal exposures used for wavefront estimation by selecting on `exposure.observation_type` equal to `cwfs` and querying the `record` to find sequential poirs  that have `observation_reason` starting with `intra` and `extra`, respectively. "
   ]
  },
  {
   "cell_type": "code",
   "execution_count": 3,
   "id": "589efc06",
   "metadata": {},
   "outputs": [
    {
     "name": "stderr",
     "output_type": "stream",
     "text": [
      "INFO:botocore.credentials:Found credentials in shared credentials file: /sdf/home/s/scichris/.lsst/aws-credentials.ini\n"
     ]
    }
   ],
   "source": [
    "input_collections = ['LATISS/raw/all', 'LATISS/calib/unbounded']\n",
    "\n",
    "butler = Butler(\n",
    "    \"/repo/embargo\",\n",
    "    collections=input_collections,\n",
    "    instrument='LATISS'\n",
    ")\n",
    "\n",
    "\n",
    "records = list(\n",
    "    butler.registry.queryDimensionRecords(\n",
    "        \"exposure\",\n",
    "        where=\"exposure.observation_type='cwfs' and exposure.day_obs=20230310\"\n",
    "    )\n",
    ")\n",
    "records.sort(key=lambda record: (record.day_obs, record.seq_num))\n",
    "\n",
    "# Loop through and make pairs where 1st exposure is intra and second exposure is extra and have same group_id\n",
    "# Save record information for each pair and sequence numbers for easy location later.\n",
    "pairs = []\n",
    "seq_nums = []\n",
    "for record0, record1 in zip(records[:-1], records[1:]):\n",
    "    if (\n",
    "        record0.observation_reason.startswith('intra') and\n",
    "        record1.observation_reason.startswith('extra') and\n",
    "        record0.group_id == record1.group_id and\n",
    "        not record0.physical_filter.startswith(\"empty\")\n",
    "    ):\n",
    "        pairs.append((record0, record1))\n",
    "        seq_nums.append(record0.seq_num)\n",
    "        \n",
    "# this only stores the first seqNum in each pair \n",
    "seq_nums = np.array(seq_nums)"
   ]
  },
  {
   "cell_type": "markdown",
   "id": "b78b1d4a",
   "metadata": {},
   "source": [
    "## Run AOS pipeline"
   ]
  },
  {
   "cell_type": "markdown",
   "id": "f1810071",
   "metadata": {},
   "source": [
    "For completeness, the cell below runs the complete pipeline  that does the instrument signature removal with `isr` task , donut detection with `generateDonutDirectDetectTask`, cutting out of donut stamps with `cutOutDonutsScienceSensorTask`, wavefront estimation with `calcZernikesTask`, is contained in the `latissWepPipeline.yaml` file (it is similar to [latissWepPipeline](https://github.com/lsst-ts/ts_analysis_notebooks/blob/develop/notebooks/auxtel/observing_runs/20230310/latissWepPipeline.yaml) used earlier, except for the image transpose). It can also be run via bps, by running the `run_bps_wep_submit.py` submission script (included in the github repository of this technote).  The code below assumes that the `$USER` obtained from `os.getlogin()` is the same as the `u/$USER` collection to which one has write access."
   ]
  },
  {
   "cell_type": "markdown",
   "id": "4eb4394b",
   "metadata": {},
   "source": [
    "This runs the full pipeline, i.e. from the raws, does limited ISR (no CR repair). "
   ]
  },
  {
   "cell_type": "code",
   "execution_count": 4,
   "id": "67fe0175",
   "metadata": {},
   "outputs": [
    {
     "name": "stdout",
     "output_type": "stream",
     "text": [
      "u/scichris/latiss_230310_run/wep_full already exists, skipping\n"
     ]
    }
   ],
   "source": [
    "repo_dir = '/sdf/data/rubin/repo/embargo/'\n",
    "user = os.getlogin()\n",
    "output_collection = f'u/{user}/latiss_230310_run/wep_full'\n",
    "\n",
    "\n",
    "butler = Butler(repo_dir)\n",
    "registry = butler.registry\n",
    "collections_list = list(registry.queryCollections())\n",
    "\n",
    "# skip if collection already exists\n",
    "if output_collection in collections_list:\n",
    "    print(f'{output_collection} already exists, skipping')\n",
    "    \n",
    "else: \n",
    "    butlerRW = SimplePipelineExecutor.prep_butler(repo_dir, \n",
    "                                                  inputs=input_collections, \n",
    "                                                  output=output_collection)\n",
    "    path_to_pipeline_yaml = os.path.join(os.getcwd(), 'latissWepPipeline.yaml' ) \n",
    "\n",
    "    # Load pipeline from file\n",
    "    pipeline = Pipeline.from_uri(path_to_pipeline_yaml)\n",
    "\n",
    "    # run the pipeline for each CWFS pair... \n",
    "    for record0, record1 in pairs:\n",
    "        day_obs = record0.day_obs\n",
    "        first = record0.seq_num\n",
    "        second = record1.seq_num\n",
    "\n",
    "        data_query = f\"exposure in ({first}..{second})\"\n",
    "        executor = SimplePipelineExecutor.from_pipeline(pipeline, where=data_query, butler=butlerRW)\n",
    "        quanta = executor.run(True)"
   ]
  },
  {
   "cell_type": "markdown",
   "id": "6949205a",
   "metadata": {},
   "source": [
    "# Obtain the derotation angle from the EFD"
   ]
  },
  {
   "cell_type": "code",
   "execution_count": 5,
   "id": "93f51f17",
   "metadata": {},
   "outputs": [],
   "source": [
    "efd_client = EfdClient('usdf_efd')\n",
    "\n",
    "spans = []\n",
    "\n",
    "day_obs = '20230310'\n",
    "butler = Butler('/sdf/data/rubin/repo/embargo/')\n",
    "datasetRefs = butler.registry.queryDatasets('raw',collections='LATISS/raw/all',\n",
    "                              where=f\"instrument='LATISS' AND exposure.day_obs = {day_obs}\").expanded()\n",
    "\n",
    "records = []\n",
    "for i, ref in enumerate(datasetRefs):\n",
    "    record = ref.dataId.records[\"exposure\"]\n",
    "    exp = record.dataId['exposure']\n",
    "    records.append(record)\n",
    "    spans.append(record.timespan)\n",
    "    \n",
    "t1= min(spans)\n",
    "t2 = max(spans)\n",
    "\n",
    "end_readout = await efd_client.select_time_series(\"lsst.sal.ATCamera.logevent_endReadout\", \n",
    "                                          '*', t1.begin.utc, t2.end.utc)\n"
   ]
  },
  {
   "cell_type": "markdown",
   "id": "2191e3eb",
   "metadata": {},
   "source": [
    "Obtain the time of the end of readout of intra image and extra image in each pair: "
   ]
  },
  {
   "cell_type": "code",
   "execution_count": 6,
   "id": "0424a80e",
   "metadata": {},
   "outputs": [],
   "source": [
    "m = (end_readout['imageNumber'] > 69) * (end_readout['imageNumber'] < 212)\n",
    "subset = end_readout[m]\n",
    "intra_times = []\n",
    "extra_times = []\n",
    "\n",
    "intra_images = []\n",
    "extra_images = []\n",
    "\n",
    "intra_programs = []\n",
    "extra_programs = []\n",
    "\n",
    "intra_exptimes = []\n",
    "extra_exptimes = []\n",
    "\n",
    "\n",
    "for i in range(len(subset)):\n",
    "    num = subset['imageNumber'][i]\n",
    "    values = subset['additionalValues'][i]\n",
    "    imageName = subset['imageName'][i]\n",
    "    expTime = subset['requestedExposureTime'][i]\n",
    "    \n",
    "    time = subset.index[i] # time of end readout \n",
    "    timestamp = ''.join(values.split(':')[1:-6])\n",
    "    program = values.split(':')[-2]\n",
    "    \n",
    "    if program.startswith('INTRA_AOS_SM_offset'):\n",
    "        intra_times.append(time)\n",
    "        intra_images.append(imageName)\n",
    "        intra_programs.append(program)\n",
    "        intra_exptimes.append(expTime)\n",
    "        \n",
    "    elif program.startswith('EXTRA_AOS_SM_offset'):\n",
    "        extra_times.append(time)\n",
    "        extra_images.append(imageName)\n",
    "        extra_programs.append(program)\n",
    "        extra_exptimes.append(expTime)\n",
    "        \n",
    "    if program.startswith('FINAL'):\n",
    "        zero_time = time\n",
    "        zero_image = imageName\n",
    "        zero_program = program"
   ]
  },
  {
   "cell_type": "markdown",
   "id": "f4edda33",
   "metadata": {},
   "source": [
    "Find the elevation angle, azimuth angle, rotator angle by querying the EFD for this information contained between the beginning of the intra-focal exposure, and the end of the extra-focal exposure. These angles were changing continuously during each intra / extra exposure, and we consider the mean for the derotation angle, since the wavefront is estimated based on the combined information between intra-focal and extra-focal exposures. "
   ]
  },
  {
   "cell_type": "code",
   "execution_count": 7,
   "id": "ea6669c3",
   "metadata": {},
   "outputs": [],
   "source": [
    "t1 = Time(zero_time) - TimeDelta(25, format='sec')\n",
    "t2 = Time(zero_time)\n",
    "correction_0 = await efd_client.select_time_series(\"lsst.sal.ATAOS.logevent_correctionOffsets\",\n",
    "                                                 [\"x\",\"y\",\"z\",\"u\",\"v\",\"w\"], t1,t2)   \n",
    "\n",
    "azimuth_list = []\n",
    "elevation_list = []\n",
    "rot_pos_list = []\n",
    "camrot_list = []\n",
    "\n",
    "for i in range(len(intra_times)):\n",
    "    \n",
    "   # 5 sec before the beginning of exposure \n",
    "   # all defocal exposures are 20 sec\n",
    "    t1 = Time(intra_times[i]) - TimeDelta(intra_exptimes[i]-5, format='sec') \n",
    "    \n",
    "    # this is 2 sec before the end of the extra-focal exposure \n",
    "    t2 = Time(extra_times[i]) - TimeDelta(2., format='sec')\n",
    "    \n",
    " \n",
    "    azel = await efd_client.select_time_series(\"lsst.sal.ATMCS.mount_AzEl_Encoders\", \n",
    "                                               [\"elevationCalculatedAngle99\", \"azimuthCalculatedAngle99\"], \n",
    "                                               t1, t2)\n",
    "    \n",
    "    rotator = await efd_client.select_time_series(\"lsst.sal.ATMCS.mount_Nasmyth_Encoders\",\n",
    "                                                  [\"nasmyth2CalculatedAngle99\"], t1, t2)\n",
    "    \n",
    "    camera = await efd_client.select_time_series(\"lsst.sal.MTRotator.rotation\", \n",
    "                                                 [\"actualPosition\"], t1,t2 )\n",
    "    \n",
    "    azimuth_list.append(np.mean(azel['azimuthCalculatedAngle99']))\n",
    "    elevation_list.append(np.mean(azel['elevationCalculatedAngle99']))\n",
    "    rot_pos_list.append(np.mean(rotator['nasmyth2CalculatedAngle99']))\n",
    "    camrot_list.append(np.mean(camera['actualPosition']))\n",
    "\n",
    "# store the results as astropy table \n",
    "d = Table(data=[intra_images, extra_images, rot_pos_list, elevation_list, azimuth_list, camrot_list],\n",
    "         names=['intra','extra', 'rot', 'el','az', 'camrot'])\n",
    "d['angle'] = d['rot'] - d['el']"
   ]
  },
  {
   "cell_type": "markdown",
   "id": "c768168a",
   "metadata": {},
   "source": [
    "Plot the example of how the rotator angle and elevation angle change continuously during the intra-focal and subsequent extra-focal exposure:"
   ]
  },
  {
   "cell_type": "code",
   "execution_count": 8,
   "id": "25f6045f",
   "metadata": {},
   "outputs": [
    {
     "data": {
      "text/plain": [
       "<matplotlib.lines.Line2D at 0x7fe45cc5ee30>"
      ]
     },
     "execution_count": 8,
     "metadata": {},
     "output_type": "execute_result"
    },
    {
     "data": {
      "image/png": "[encoded data removed]",
      "text/plain": [
       "<Figure size 640x480 with 1 Axes>"
      ]
     },
     "metadata": {},
     "output_type": "display_data"
    }
   ],
   "source": [
    "# print in seconds \n",
    "dt = rotator['nasmyth2CalculatedAngle99'].index - rotator['nasmyth2CalculatedAngle99'].index[0]\n",
    "dt_sec = np.array(dt.values.astype(float)) / 1e9\n",
    "rot = np.mean(rotator['nasmyth2CalculatedAngle99'])\n",
    "plt.plot(dt_sec, rotator['nasmyth2CalculatedAngle99'].values, marker='o')\n",
    "plt.xlabel('Time since start of intra exposure [sec]')\n",
    "plt.ylabel('Rotator angle [deg]')\n",
    "plt.axhline(rot)"
   ]
  },
  {
   "cell_type": "code",
   "execution_count": 9,
   "id": "2732c54a",
   "metadata": {},
   "outputs": [
    {
     "data": {
      "text/plain": [
       "<matplotlib.lines.Line2D at 0x7fe45cc5db10>"
      ]
     },
     "execution_count": 9,
     "metadata": {},
     "output_type": "execute_result"
    },
    {
     "data": {
      "image/png": "[encoded data removed]",
      "text/plain": [
       "<Figure size 640x480 with 1 Axes>"
      ]
     },
     "metadata": {},
     "output_type": "display_data"
    }
   ],
   "source": [
    "dt = azel['elevationCalculatedAngle99'].index - azel['elevationCalculatedAngle99'].index[0]\n",
    "dt_sec = np.array(dt.values.astype(float)) / 1e9\n",
    "plt.plot(dt_sec, azel['elevationCalculatedAngle99'].values, marker='o')\n",
    "plt.xlabel('Time since start of intra exposure [sec]')\n",
    "plt.ylabel('Elevation angle [deg]')\n",
    "el = np.mean(azel['elevationCalculatedAngle99'])\n",
    "plt.axhline(el)"
   ]
  },
  {
   "cell_type": "markdown",
   "id": "7dd1cba9",
   "metadata": {},
   "source": [
    "# Inspect the results"
   ]
  },
  {
   "cell_type": "markdown",
   "id": "3f9f6a2e",
   "metadata": {},
   "source": [
    "The wavefront was measured with rotation  different than 0, and needs to be derotated to the boresight frame.\n",
    "\n",
    "In general, Zernike terms are either not affected by rotation (eg. defocus term Z4), or they rotate in pairs  (e.g., Z7 & Z8).  For the pairs, the rotation matrix is \n",
    "\n",
    "$\\begin{bmatrix}\n",
    "\\tag{2}\n",
    "\\cos(m*a) & -\\sin(m*a) \\\\\n",
    "\\sin(m*a) & \\cos(m*a)\n",
    "\\end{bmatrix}$\n",
    "\n",
    "where $a$ is the angle in the coordinate system rotation and $m$ is the azimuthal order of the particular Zernike pair.  For coma, $m=1$ so that the rotation matrix has $sin(a)$ and $cos(a)$. For astigmatism, $m=2$ so the matrix contains $sin(2a)$ and $cos(2a)$. Given the maximum number of Zernike terms to rotate, the GalSim function `zernikeRotMatrix` calculates the necessary rotation matrix."
   ]
  },
  {
   "cell_type": "markdown",
   "id": "ed8804eb",
   "metadata": {},
   "source": [
    "Note: the original `latiss_base_align` code derotates Zernikes using this [rotation matrix](https://github.com/lsst-ts/ts_externalscripts/blob/a8d2a5191d2230d2875b44a881a878e4bca5cbd4/python/lsst/ts/externalscripts/auxtel/latiss_base_align.py#L128):\n",
    "\n",
    "$\\tag{3}\n",
    "R_{784} = \n",
    "\\begin{bmatrix}\n",
    "   \\cos{\\theta}   & -\\sin{\\theta} & 0 \\\\    \n",
    "   \\sin{\\theta} & \\cos{\\theta} & 0 \\\\ \n",
    "   0 & 0 & 1  \n",
    "\\end{bmatrix}\n",
    "$\n",
    "   \n",
    "   where $\\theta = rot - el$. But Galsim `zernikeRotMatrix` rotates in the opposite direction. This can be shown with the following - we load an example set of Zernikes resulting from `ts_wep` fit. We consider only  a subset of $[Z7,Z8,Z4]$. We rotate it first using the $R_{784}(\\theta)$ above. Then we rotate with Galsim by $-\\theta$, and show that the resulting rotated Zernikes are the same. "
   ]
  },
  {
   "cell_type": "code",
   "execution_count": 10,
   "id": "35b3028e",
   "metadata": {},
   "outputs": [],
   "source": [
    "# the rotation matrix used in latiss_base_align\n",
    "matrix_rotation = lambda angle: np.array(\n",
    "        [\n",
    "            [np.cos(np.radians(angle)), -np.sin(np.radians(angle)), 0.0],\n",
    "            [np.sin(np.radians(angle)), np.cos(np.radians(angle)), 0.0],\n",
    "            [0.0, 0.0, 1.0],\n",
    "        ]\n",
    "    )\n",
    "\n",
    "# load one set of Zernikes \n",
    "seq_num=71\n",
    "output_collection = 'u/scichris/latiss_230310_run/wep_no_transpose_'\n",
    "butler = Butler(\n",
    "    \"/sdf/data/rubin/repo/embargo/\",\n",
    "    collections=[output_collection],\n",
    "    instrument='LATISS'\n",
    ")\n",
    "zk4_22 =  butler.get(\n",
    "            \"zernikeEstimateAvg\", \n",
    "            dataId={'instrument':'LATISS', 'detector':0, 'visit':int(f'20230310{seq_num+1:05d}')}\n",
    "        )\n"
   ]
  },
  {
   "cell_type": "code",
   "execution_count": 11,
   "id": "a97a4559",
   "metadata": {},
   "outputs": [],
   "source": [
    "# zernikes from ts_wep  is 4:22 ... \n",
    "angle = 90 \n",
    "\n",
    "# that is [comaX, comaY, defocus ]\n",
    "zk784 = [zk4_22[7-4],zk4_22[8-4],zk4_22[4-4]]\n",
    "\n",
    "# rotate by angle \n",
    "zk784_rot = np.matmul(zk784 , matrix_rotation(angle))\n",
    "     \n",
    "zk4_8 = zk4_22[ :9-4]\n",
    "zk1_8 = np.pad(zk4_8, [4,0]) # pad by 4 so it starts at 0, and array[i] corresponds to zk[i]\n",
    "\n",
    "# rotate by -angle \n",
    "zk1_8_rot_galsim = np.matmul(zk1_8, zernikeRotMatrix(8, -np.deg2rad(angle)))\n",
    "\n",
    "zk784_rot_galsim = zk1_8_rot_galsim[[7,8,4]]"
   ]
  },
  {
   "cell_type": "code",
   "execution_count": 12,
   "id": "17e7fa78",
   "metadata": {},
   "outputs": [
    {
     "data": {
      "text/plain": [
       "array([-0.32600393,  0.1319935 , -0.07967852])"
      ]
     },
     "execution_count": 12,
     "metadata": {},
     "output_type": "execute_result"
    }
   ],
   "source": [
    "zk784_rot_galsim"
   ]
  },
  {
   "cell_type": "code",
   "execution_count": 13,
   "id": "cbbb3c16",
   "metadata": {},
   "outputs": [
    {
     "data": {
      "text/plain": [
       "array([-0.32600393,  0.1319935 , -0.07967852])"
      ]
     },
     "execution_count": 13,
     "metadata": {},
     "output_type": "execute_result"
    }
   ],
   "source": [
    "zk784_rot"
   ]
  },
  {
   "cell_type": "markdown",
   "id": "685f6d94",
   "metadata": {},
   "source": [
    "Thus the two sets of rotated Zernikes are the same if we use for galsim the `-angle` used in `latiss_base_align` `matrix_rotation`"
   ]
  },
  {
   "cell_type": "markdown",
   "id": "2d5a50ff",
   "metadata": {},
   "source": [
    "[The Noll Zernike polynomials](https://telescope-optics.net/zernike_aberrations.htm) include x,y components of various optical aberrations (\"moments\" of expansion, eg. astigmatism, coma, trefoil). The total moment consists of x,y components added in quadrature, eg. total astigmatism $ Z{\\mathrm{ast}}^{2}= Z_{5}^{2},Z_{6}^{2}$, total coma $Z_{\\mathrm{coma}}^{2} = Z_{7}^{2},Z_{8}^{2}$. \n",
    "\n",
    "Since the total moment is invariant under rotation, we plot it first as a sanity check to confirm that rotation only shifted power between x,y components. The moments plotted include:\n",
    "\n",
    "\n",
    "\n",
    "\n",
    "| Optical Aberration |  x,y components |\n",
    "| :--: |  :--: | \n",
    "| Primary Astigmatism | Z5, Z6 |\n",
    "| Primary Coma | Z7, Z8 |\n",
    "| Primary Trefoil | Z9, Z10 |\n",
    "| Secondary Astigmatism | Z12, Z13 |\n",
    "| Secondary Quadrafoil | Z14, Z15 | \n",
    "| Secondary Coma | Z16, Z17 |\n",
    "| Secondary Trefoil | Z18, Z19 | \n",
    "| Pentafoil | Z20, Z21 | \n",
    "\n",
    " "
   ]
  },
  {
   "cell_type": "code",
   "execution_count": 14,
   "id": "7e64d170",
   "metadata": {},
   "outputs": [],
   "source": [
    "%matplotlib inline\n",
    "\n",
    "\n",
    "#d = Table.read('20230310_EFD_angle_data.txt', format='ascii')\n",
    "#d['angle'] = d['rot'] - d['el']\n",
    "\n",
    "\n",
    "def plot_derot_total(axis = 'x'):\n",
    "    if axis == 'x':\n",
    "        dxs = np.linspace(-2, 2, 10)  \n",
    "        intra_seq_nums = np.arange(71, 90, 2)\n",
    "    \n",
    "    elif axis == 'y':\n",
    "        dxs = np.linspace(-2, 2, 10) # this is dy \n",
    "        intra_seq_nums = np.arange(91, 110, 2)\n",
    "        \n",
    "    elif axis == 'z':  \n",
    "        dxs = np.linspace(-0.1, 0.1, 10) # this is dz \n",
    "        intra_seq_nums = np.arange(172, 191, 2)\n",
    "        \n",
    "    zernikes = []\n",
    "    for seq_num in intra_seq_nums:\n",
    "        zernikes.append(\n",
    "            butler.get(\n",
    "                \"zernikeEstimateAvg\", \n",
    "                dataId={'instrument':'LATISS', 'detector':0, 'visit':int(f'20230310{seq_num+1:05d}')}\n",
    "            )\n",
    "        )\n",
    "    zernikes = np.array(zernikes)  # this is unrotated 4:22 \n",
    "\n",
    "    # pad with 4 zeros so that array[N]  corresponds to ZkN\n",
    "    zk1_22_list = []\n",
    "    for zk4_22 in zernikes:\n",
    "        zk1_22 = np.pad(zk4_22,[4,0])\n",
    "        zk1_22_list.append(zk1_22)\n",
    "    zk1_22_arr = np.array(zk1_22_list)\n",
    "\n",
    "\n",
    "    zk1_22_rot_list = []\n",
    "    for pair in range(len(intra_seq_nums)):\n",
    "\n",
    "        zk1_22_unrot = zk1_22_arr[pair]\n",
    "\n",
    "        seq_num = intra_seq_nums[pair]\n",
    "        intra_name = 'AT_O_20230310_'+   str(seq_num).zfill(6)\n",
    "\n",
    "        # derotate by applying matrix multiplication\n",
    "        # angle = rot - el \n",
    "        angle =  d[d['intra'] == intra_name]['angle'].value[0]\n",
    "\n",
    "        zk1_22rot = np.matmul(zk1_22_unrot, zernikeRotMatrix(22, -np.deg2rad(angle)))\n",
    "        zk1_22_rot_list.append(zk1_22rot)\n",
    "\n",
    "    zk1_22_rot_arr = np.array(zk1_22_rot_list)\n",
    "\n",
    "    titles = {5:'astigmatism', 7:'coma', 9:'trefoil', \n",
    "                  12:'2nd astigmatism',14:'quadrafoil',16:'2nd coma',\n",
    "                  18:'2nd trefoil',20:'pentafoil'}\n",
    "\n",
    "    # rename rotated 4:22 to use the same plotting code \n",
    "    fig, axes = plt.subplots(nrows=4, ncols=2, figsize=(8,12))\n",
    "    axes = axes.ravel()\n",
    "    xdata = dxs\n",
    "   \n",
    "    i = 0 \n",
    "    for j in titles.keys():\n",
    "        \n",
    "        # plot the rotated Zks \n",
    "        zk_x = zk1_22_rot_arr[:,j]  # eg. zk5\n",
    "        zk_y = zk1_22_rot_arr[:,j+1]  # eg, zk6 \n",
    "        ydata = np.sqrt(zk_x**2. + zk_y**2.)\n",
    "        axes[i].scatter(xdata, ydata, marker='d',s=95, label='original')\n",
    "        \n",
    "        # plot the unrotated Zks \n",
    "        zk_x = zk1_22_arr[:,j]\n",
    "        zk_y = zk1_22_arr[:,j+1]\n",
    "        ydata = np.sqrt(zk_x**2. + zk_y**2.)\n",
    "        axes[i].scatter(xdata, ydata, marker='s', label='rotated')\n",
    "        \n",
    "        axes[i].set_title(f\"Z{j,j+1}: {titles[j]}\")\n",
    "\n",
    "        i += 1\n",
    "\n",
    "    for ax in axes:\n",
    "        ax.set_ylim(-0.02, 0.36)\n",
    "        ax.axhline(0, c='k')\n",
    "    fig.text(0.44,0, f\"M2 d{axis} [mm]\", fontsize=14)\n",
    "    fig.text(-0.02\n",
    "             ,0.4,\"WFE [µm]\", rotation='vertical',fontsize=14 )\n",
    "    plt.tight_layout()\n",
    "    plt.show()\n"
   ]
  },
  {
   "cell_type": "code",
   "execution_count": 15,
   "id": "01232347",
   "metadata": {},
   "outputs": [],
   "source": [
    "output_collection = 'u/scichris/latiss_230310_run/wep_no_transpose_'\n",
    "butler = Butler(\n",
    "    \"/sdf/data/rubin/repo/embargo/\",\n",
    "    collections=[output_collection],\n",
    "    instrument='LATISS'\n",
    ")"
   ]
  },
  {
   "cell_type": "markdown",
   "id": "cdce5a92",
   "metadata": {},
   "source": [
    "Note: in the image below the y-axis is set to the same range to allow easier comparison between total amount of optical distortion in different Zernike modes. "
   ]
  },
  {
   "cell_type": "code",
   "execution_count": null,
   "id": "81772a8c",
   "metadata": {
    "scrolled": false
   },
   "outputs": [
    {
     "data": {
      "image/png": "[encoded data removed]",
      "text/plain": [
       "<Figure size 800x1200 with 8 Axes>"
      ]
     },
     "metadata": {},
     "output_type": "display_data"
    }
   ],
   "source": [
    "for axis in 'xyz':\n",
    "    plot_derot_total(axis = axis)"
   ]
  },
  {
   "cell_type": "markdown",
   "id": "d7a79df8",
   "metadata": {},
   "source": [
    "Blue diamonds are original (rotated), and  orange squares are derotated Zernike values. They are identical because the total coma / astigmatism / trefoil is invariant under rotation. "
   ]
  },
  {
   "cell_type": "markdown",
   "id": "baf0d443",
   "metadata": {},
   "source": [
    "# Plot only a subset of Zernikes relevant to sensitivity matrix calculation (defocus, comaX, comaY)"
   ]
  },
  {
   "cell_type": "code",
   "execution_count": null,
   "id": "cd105c16",
   "metadata": {},
   "outputs": [],
   "source": [
    "\n",
    "def plot_sens_rot_zk478(butler, axis = 'x', verbose=True, add_angle=0, mult_angle = 1, swap_xy_coma = True,\n",
    "                       pre = '-'):\n",
    "    if axis == 'x':\n",
    "        dxs = np.linspace(-2, 2, 10)  \n",
    "        intra_seq_nums = np.arange(71, 90, 2)  \n",
    "    elif axis == 'y':\n",
    "        dxs = np.linspace(-2, 2, 10) # this is dy \n",
    "        intra_seq_nums = np.arange(91, 110, 2)\n",
    "    elif axis == 'z':  \n",
    "        dxs = np.linspace(-0.1, 0.1, 10) # this is dz \n",
    "        intra_seq_nums = np.arange(172, 191, 2)\n",
    "    \n",
    "    # read in the appropriate Zernike coefficients \n",
    "    zernikes = []\n",
    "    for seq_num in intra_seq_nums:\n",
    "        zernikes.append(\n",
    "            butler.get(\n",
    "                \"zernikeEstimateAvg\", \n",
    "                dataId={'instrument':'LATISS', 'detector':0, 'visit':int(f'20230310{seq_num+1:05d}')}\n",
    "            )\n",
    "        )\n",
    "    zernikes = np.array(zernikes)\n",
    "\n",
    "    # first, pad with 4 zeros so that array[N]  corresponds to ZkN\n",
    "    zk1_22_list = []\n",
    "    for zk4_22 in zernikes:\n",
    "        zk1_22 = np.pad(zk4_22,[4,0])\n",
    "        zk1_22_list.append(zk1_22)\n",
    "    zk1_22_arr = np.array(zk1_22_list)\n",
    "\n",
    "    # now derotate using the  EFD angle = el-rot \n",
    "    zk1_22_rot_list = []\n",
    "    for pair in range(len(intra_seq_nums)):\n",
    "\n",
    "        zk1_22_unrot = zk1_22_arr[pair]\n",
    "        if  swap_xy_coma : \n",
    "            # swap x,y coma ... \n",
    "            x_coma = zk1_22_unrot[7]\n",
    "            y_coma = zk1_22_unrot[8]\n",
    "            zk1_22_unrot[7] = y_coma\n",
    "            zk1_22_unrot[8] = x_coma\n",
    "        seq_num = intra_seq_nums[pair]\n",
    "        intra_name = 'AT_O_20230310_'+   str(seq_num).zfill(6)\n",
    "\n",
    "        # derotate using angle = rot-el \n",
    "        #                      = Nasmyth2CalculatedAngle- elevationCalculatedAngkle\n",
    "        angle =  d[d['intra'] == intra_name]['angle'].value[0]\n",
    "\n",
    "        # in the latiss_base_align, the rotation is by \n",
    "        # angle + camera_rotation_angle, where\n",
    "        # camera_rotation_angle is orientation of the \n",
    "        # detector relative to the rotator, \n",
    "        # assumed to be within a degree or two \n",
    "        zk1_22rot = np.matmul(zk1_22_unrot, zernikeRotMatrix(22, \n",
    "                              np.deg2rad(add_angle+mult_angle*angle)))\n",
    "        zk1_22_rot_list.append(zk1_22rot)\n",
    "\n",
    "    zk1_22_rot_arr = np.array(zk1_22_rot_list)\n",
    "    \n",
    "    # plot the derotated and the rotated Zks \n",
    "    fig, axes = plt.subplots(nrows=1, ncols=3, figsize=(10, 4))\n",
    "    axes = axes.ravel()\n",
    "    xdata = dxs\n",
    "    \n",
    "    # rotated\n",
    "    if verbose:\n",
    "        print('\\n Rotated ')\n",
    "    col=0\n",
    "    \n",
    "    slopes = []\n",
    "    for j in [7,8,4]: # range(4, 23): \n",
    "        ydata = 1000*zk1_22_rot_arr[:,j] # use nm \n",
    "        axes[col].scatter(dxs, ydata,)\n",
    "        \n",
    "        # fit straight line \n",
    "        x=np.arange(np.min(xdata), np.max(xdata), np.abs(np.max(xdata) - np.min(xdata))/100 )\n",
    "        popt,pcov = curve_fit(line, xdata, ydata)\n",
    "        if verbose:\n",
    "            print(f'Z{j} as func of dx displacement fit intercept and slope ',popt)\n",
    "        axes[col].plot(x,line(x, *popt),\n",
    "         label=f'fit slope {np.round(popt[1],1)}nm / mm', alpha=0.8)\n",
    "        axes[col].set_ylabel(f'Z{j} [nm]')\n",
    "        col += 1 \n",
    "        if verbose: print('1/slope=', 1/popt[1])\n",
    "        \n",
    "        slopes.append(popt[1])\n",
    "        \n",
    "    # The original senM we're comparing to: \n",
    "    #     self.matrix_sensitivity = [\n",
    "    #             [1.0 / 206.0, 0.0, 0.0],\n",
    "    #             [0.0, -1.0 / 206.0, -(109.0 / 206.0) / 4200],\n",
    "    #             [0.0, 0.0, 1.0 / 4200.0],\n",
    "    #         ]\n",
    "    xleg = 0\n",
    "    yleg = 1.2 \n",
    "    loc_string = 'lower left'\n",
    "    \n",
    "    mult = int(pre+'1')\n",
    "    # we're plotting   zk7, zk8  ,zk4 \n",
    "    if axis == 'x':\n",
    "        # dx slopes \n",
    "        # Z7 as a function of dx : Cx \n",
    "        ax_idx = 0 # zk7\n",
    "        popt = [+7.20791437, mult*206]    \n",
    "        axes[ax_idx].plot(x, line(x,*popt), label=f'{pre}senM: {popt[1]} nm / mm')\n",
    "        axes[ax_idx].legend(loc=loc_string, bbox_to_anchor=(xleg, yleg ))\n",
    "        \n",
    "    \n",
    "    elif axis == 'y':\n",
    "        # dy slopes \n",
    "        # z4: defocus as function of dy : Czy  \n",
    "        ax_idx = 2\n",
    "        \n",
    "        popt = [+7.20791437, mult*(-109)]    \n",
    "        axes[ax_idx].plot(x, line(x,*popt), label=f'{pre}senM: {popt[1]} nm / mm')\n",
    "        axes[ax_idx].legend(loc=loc_string,bbox_to_anchor=(xleg, yleg ))\n",
    "\n",
    "        # Z8 (comaY) as function of dy : Cy \n",
    "        ax_idx = 1\n",
    "        popt = [+7.20791437, mult*(-206)]    \n",
    "        axes[ax_idx].plot(x, line(x,*popt), label=f'{pre}senM: {popt[1]} nm / mm')\n",
    "        axes[ax_idx].legend(loc=loc_string, bbox_to_anchor=(xleg, yleg ))\n",
    "        \n",
    "    elif axis == 'z':\n",
    "        # dz slopes\n",
    "        # Z4: defocus as function of dz : Dz\n",
    "        ax_idx = 2\n",
    "        popt = [+7.20791437, mult*4200]    \n",
    "        axes[ax_idx].plot(x, line(x,*popt), label=f'{pre}senM: {popt[1]} nm / mm')\n",
    "        axes[ax_idx].legend(loc=[0,1], bbox_to_anchor=(xleg, yleg ))\n",
    "\n",
    "\n",
    "    for ax in axes:#[:-1]:\n",
    "        ax.set_ylim(-300, 300)\n",
    "        ax.axhline(0, c='k')\n",
    "        #ax.set_ylabel()\n",
    "        ax.set_xlabel(f\"M2 d{axis} [mm]\")\n",
    "        \n",
    "    fig.suptitle(f'Rotation by  Galsim({add_angle} + {mult_angle}*angle), slope= {pre}senM term', fontsize=14)\n",
    "    plt.tight_layout()\n",
    "    plt.show()\n",
    "    \n",
    "    return slopes "
   ]
  },
  {
   "cell_type": "markdown",
   "id": "bcacde70",
   "metadata": {},
   "source": [
    "We can run `ts_wep` pipeline with a boolean config `calcZernikesConfig.transposeImages`, which transposes the postISR images before running the Zernike estimation. This is the default with `phoSim` simulated images. We expect comaX to depend on dx displacement, and comaY  on dy.  It turns out that without applying the transpose, we get the opposite behavior  (i.e. comaX depending on dy,  comaY on dx). In the plots below, `senM` stands for the slope value from the `matrix_sensitivity` above, eg. $C_{x} = 1/206.0$ corresponds to a slope of $206$ nm/mm. \n",
    "\n",
    "First we show the without the image transpose, coma-X needs to be swapped with coma-Y (`swap_xy_coma = True`) to yield correct `dx` and `dy` dependence:"
   ]
  },
  {
   "cell_type": "code",
   "execution_count": null,
   "id": "d15e4a11",
   "metadata": {},
   "outputs": [],
   "source": [
    "output_collection = 'u/scichris/latiss_230310_run/wep_no_transpose_'\n",
    "butler = Butler(\n",
    "    \"/sdf/data/rubin/repo/embargo/\",\n",
    "    collections=[output_collection],\n",
    "    instrument='LATISS'\n",
    ")\n",
    "\n",
    "for axis in 'xyz':\n",
    "    slopes = plot_sens_rot_zk478(butler, axis=axis, add_angle=90, mult_angle = -1, swap_xy_coma = True)"
   ]
  },
  {
   "cell_type": "markdown",
   "id": "32da4112",
   "metadata": {},
   "source": [
    "Then with the image transpose, we get the correct behavior - i.e. there's a comaX dependence on `dx`, and comaY dependence on `dy`, and nothing needs to be swapped (`swap_xy_coma=False`):"
   ]
  },
  {
   "cell_type": "code",
   "execution_count": null,
   "id": "def265fc",
   "metadata": {},
   "outputs": [],
   "source": [
    "output_collection = 'u/scichris/latiss_230310_run/wep_with_transpose_'\n",
    "butler = Butler(\n",
    "    \"/sdf/data/rubin/repo/embargo/\",\n",
    "    collections=[output_collection],\n",
    "    instrument='LATISS'\n",
    ")\n",
    "\n",
    "slope_dic = {}\n",
    "for axis in 'xyz':\n",
    "    slopes = plot_sens_rot_zk478(butler, axis=axis, add_angle=90, mult_angle = -1, swap_xy_coma=False,\n",
    "                                pre='-')\n",
    "    slope_dic[axis] = slopes"
   ]
  },
  {
   "cell_type": "code",
   "execution_count": null,
   "id": "a9c9c7bd",
   "metadata": {},
   "outputs": [],
   "source": [
    "slope_dic"
   ]
  },
  {
   "cell_type": "markdown",
   "id": "8dc8ae02",
   "metadata": {},
   "source": [
    "We have measured directly the slopes that form the following Jacobian: \n",
    "    \n",
    "```\n",
    "[Z7]   [ dZ7/dx  dZ7/dy  dZ7/dz ]   [dx]\n",
    "[Z8] = [ dZ8/dx  dZ8/dy  dZ8/dz ] * [dy]  = J * X\n",
    "[Z4]   [ dZ4/dx  dZ4/dy  dZ4/dz ]   [dz]\n",
    "```"
   ]
  },
  {
   "cell_type": "code",
   "execution_count": null,
   "id": "480d1797",
   "metadata": {},
   "outputs": [],
   "source": [
    "J = np.array([slope_dic['x'], slope_dic['y'], slope_dic['z']]).T\n",
    "np.set_printoptions(formatter={'float_kind':'{:.8f}'.format})\n",
    "J"
   ]
  },
  {
   "cell_type": "markdown",
   "id": "189e949d",
   "metadata": {},
   "source": [
    "The sensitivity matrix is the inverse of that Jacobian:"
   ]
  },
  {
   "cell_type": "code",
   "execution_count": null,
   "id": "4754b5e7",
   "metadata": {},
   "outputs": [],
   "source": [
    "M = -np.linalg.inv(J)\n",
    "np.set_printoptions(formatter={'float_kind':'{:.4f}'.format})\n",
    "M*1000"
   ]
  },
  {
   "cell_type": "markdown",
   "id": "d105636b",
   "metadata": {},
   "source": [
    "Compare that to the original matrix:"
   ]
  },
  {
   "cell_type": "code",
   "execution_count": null,
   "id": "3c4ce43e",
   "metadata": {},
   "outputs": [],
   "source": [
    "M0 = np.array([[1.0 / 206.0,      0.0,                       0.0],\n",
    "[ 0.0,          -1.0 / 206.0,     -(109.0 / 206.0) / 4200],\n",
    "[ 0.0,             0.0,                      1.0 / 4200.0]])\n",
    "M0*1000"
   ]
  },
  {
   "cell_type": "markdown",
   "id": "c874f7d9",
   "metadata": {},
   "source": [
    "Thus we have that the new sensitivity matrix would be : \n",
    "\n"
   ]
  },
  {
   "cell_type": "code",
   "execution_count": null,
   "id": "51281ef0",
   "metadata": {},
   "outputs": [],
   "source": [
    "np.set_printoptions(formatter={'float_kind':'{:.8f}'.format})\n",
    "M"
   ]
  },
  {
   "cell_type": "markdown",
   "id": "a2e58c9b",
   "metadata": {},
   "source": [
    "# Plot all derotated Zernikes as a function of hexapod motion \n",
    "\n",
    "For completeness, we also plot all other measured Zernikes (besides Z7,Z8,Z4 considered for sensitivity matrix) as a function of hexapod motion.\n"
   ]
  },
  {
   "cell_type": "code",
   "execution_count": null,
   "id": "d42a9d46",
   "metadata": {
    "scrolled": false
   },
   "outputs": [],
   "source": [
    "def plot_sens_rot(axis = 'x', verbose=True, add_angle=0, mult_angle = 1, pre='-'):\n",
    "    if axis == 'x':\n",
    "        dxs = np.linspace(-2, 2, 10)  \n",
    "        intra_seq_nums = np.arange(71, 90, 2)\n",
    "    \n",
    "    elif axis == 'y':\n",
    "        dxs = np.linspace(-2, 2, 10) # this is dy \n",
    "        intra_seq_nums = np.arange(91, 110, 2)\n",
    "        \n",
    "    elif axis == 'z':  \n",
    "        dxs = np.linspace(-0.1, 0.1, 10) # this is dz \n",
    "        intra_seq_nums = np.arange(172, 191, 2)\n",
    "    \n",
    "    # read in the appropriate zernikes \n",
    "    zernikes = []\n",
    "    for seq_num in intra_seq_nums:\n",
    "        zernikes.append(\n",
    "            butler.get(\n",
    "                \"zernikeEstimateAvg\", \n",
    "                dataId={'instrument':'LATISS', 'detector':0, 'visit':int(f'20230310{seq_num+1:05d}')}\n",
    "            )\n",
    "        )\n",
    "    zernikes = np.array(zernikes)\n",
    "    \n",
    "    # first, pad with 4 zeros so that array[N]  corresponds to ZkN\n",
    "    zk1_22_list = []\n",
    "    for zk4_22 in zernikes:\n",
    "        zk1_22 = np.pad(zk4_22,[4,0])\n",
    "        zk1_22_list.append(zk1_22)\n",
    "    zk1_22_arr = np.array(zk1_22_list)\n",
    "\n",
    "    # now derotate using the  EFD angle = el-rot \n",
    "    zk1_22_rot_list = []\n",
    "    for pair in range(len(intra_seq_nums)):\n",
    "\n",
    "        zk1_22_unrot = zk1_22_arr[pair]\n",
    "\n",
    "        seq_num = intra_seq_nums[pair]\n",
    "        intra_name = 'AT_O_20230310_'+   str(seq_num).zfill(6)\n",
    "\n",
    "        # derotate by applying matrix multiplication\n",
    "        angle =  d[d['intra'] == intra_name]['angle'].value[0]\n",
    "        \n",
    "        # derotate using angle = rot-el \n",
    "        #                      = Nasmyth2CalculatedAngle- elevationCalculatedAngkle\n",
    "        zk1_22rot = np.matmul(zk1_22_unrot, zernikeRotMatrix(22, np.deg2rad(add_angle+mult_angle*angle)))\n",
    "        zk1_22_rot_list.append(zk1_22rot)\n",
    "\n",
    "    zk1_22_rot_arr = np.array(zk1_22_rot_list)\n",
    "    \n",
    "    # plot the derotated and the rotated Zks \n",
    "    fig, axes = plt.subplots(nrows=7, ncols=3, figsize=(12,22))\n",
    "    axes = axes.ravel()\n",
    "    xdata = dxs\n",
    "    \n",
    "    \n",
    "    # unrotated\n",
    "    if verbose: print('\\n Unrotated ')\n",
    "    for j in range(4, 23):  \n",
    "        ydata = 1000*zk1_22_arr[:,j] # use nm \n",
    "        axes[j-4].scatter(dxs, ydata,)# label='unrot')\n",
    "        \n",
    "        # fit straight line \n",
    "        x=np.arange(np.min(xdata), np.max(xdata), np.abs(np.max(xdata) - np.min(xdata))/100 )\n",
    "        popt,pcov = curve_fit(line, xdata, ydata)\n",
    "        if verbose:\n",
    "            print(f'Z{j} as func of dx displacement fit intercept and slope ',popt)\n",
    "        axes[j-4].plot(x,line(x, *popt),\n",
    "         label=f'unrot slope {np.round(popt[1],1)}nm / mm', alpha=0.8)\n",
    "\n",
    "        if verbose: print('1/slope=', 1/popt[1])\n",
    "        \n",
    "        axes[j-4].set_title(f\"Z{j}\")\n",
    "    \n",
    "    # rotated\n",
    "    if verbose:\n",
    "        print('\\n Rotated ')\n",
    "    for j in range(4, 23):  \n",
    "        ydata = 1000*zk1_22_rot_arr[:,j] # use nm \n",
    "        axes[j-4].scatter(dxs, ydata,)# label='rot' )\n",
    "        \n",
    "        # fit straight line \n",
    "        x=np.arange(np.min(xdata), np.max(xdata), np.abs(np.max(xdata) - np.min(xdata))/100 )\n",
    "        popt,pcov = curve_fit(line, xdata, ydata)\n",
    "        if verbose:\n",
    "            print(f'Z{j} as func of dx displacement fit intercept and slope ',popt)\n",
    "        axes[j-4].plot(x,line(x, *popt),\n",
    "         label=f'rot slope {np.round(popt[1],1)}nm / mm', alpha=0.8)\n",
    "\n",
    "        if verbose: print('1/slope=', 1/popt[1])\n",
    "        \n",
    "    # Plot slopes based on \n",
    "    #     self.matrix_sensitivity = [\n",
    "    #             [1.0 / 206.0, 0.0, 0.0],\n",
    "    #             [0.0, -1.0 / 206.0, -(109.0 / 206.0) / 4200],\n",
    "    #             [0.0, 0.0, 1.0 / 4200.0],\n",
    "    #         ]\n",
    "   \n",
    "    loc_string = 'lower left'\n",
    "    \n",
    "    # multiplication factor of the original sensitivity matrix terms ... \n",
    "    mult = int(pre+'1') \n",
    "    \n",
    "    # we're plottting   zk7, zk8  ,zk4 \n",
    "    zk0 = 4 # starting from Zk4.... \n",
    "    if axis == 'x':\n",
    "        # dx slopes \n",
    "        # Z7 as a function of dx : Cx \n",
    "        ax_idx = 7-zk0 # zk7\n",
    "        popt = [+7.20791437, mult*206]    \n",
    "        axes[ax_idx].plot(x, line(x,*popt), label=f'{pre}senM: {popt[1]} nm / mm')\n",
    "        axes[ax_idx].legend(title='Z7', loc=loc_string, \n",
    "                           bbox_to_anchor=(0.9, 0.7),\n",
    "          bbox_transform=fig.transFigure)\n",
    "    \n",
    "    \n",
    "    elif axis == 'y':\n",
    "        # dy slopes \n",
    "        # defocus as function of dy : Czy  \n",
    "        ax_idx = 4-zk0\n",
    "        \n",
    "        popt = [+7.20791437, mult*(-109)]    \n",
    "        axes[ax_idx].plot(x, line(x,*popt), label=f'{pre}senM: {popt[1]} nm / mm')\n",
    "        axes[ax_idx].legend(title='Z4', loc=loc_string,\n",
    "                            bbox_to_anchor=(0.9, 0.82),\n",
    "                            bbox_transform=fig.transFigure)\n",
    "\n",
    "        # Z8 (comaY) as function of dy : Cy \n",
    "        ax_idx = 8-zk0\n",
    "        popt = [+7.20791437, mult*(-206)]    \n",
    "        axes[ax_idx].plot(x, line(x,*popt), label=f'{pre}senM: {popt[1]} nm / mm')\n",
    "        axes[ax_idx].legend(title='Z8', loc=loc_string,\n",
    "                            bbox_to_anchor=(0.9, 0.7),\n",
    "                            bbox_transform=fig.transFigure)\n",
    "        \n",
    "    elif axis == 'z':\n",
    "        # dz slopes\n",
    "        # defocus as function of dz : Dz\n",
    "        ax_idx = 4-zk0\n",
    "        popt = [+7.20791437, mult*4200]    \n",
    "        axes[ax_idx].plot(x, line(x,*popt), label=f'{pre}senM: {popt[1]} nm / mm')\n",
    "        axes[ax_idx].legend(title='Z4', loc=loc_string, \n",
    "                            bbox_to_anchor=(0.9, 0.82),\n",
    "                            bbox_transform=fig.transFigure)\n",
    "\n",
    "    for ax in axes[:-2]:\n",
    "        ax.set_ylim(-300, 300)\n",
    "        ax.axhline(0, c='k')\n",
    "        \n",
    "    # add just one set of labels     \n",
    "    fig.text(0.44, 0.1,  f\"M2 d{axis} [mm]\", fontsize=14)\n",
    "    fig.text(0.06 ,0.4,\"WFE [nm]\", rotation='vertical',fontsize=14 )\n",
    "    axes[-2].axis('off')\n",
    "    axes[-1].axis('off')\n",
    "    fig.text(0.3,0.9, \n",
    "             f'Rotation by  Galsim({add_angle} + {mult_angle}*angle), slope= {pre}senM term', \n",
    "             fontsize=14)\n",
    "    fig.subplots_adjust(hspace=0.25)\n",
    "    plt.tight_layout()\n",
    "    plt.show()\n",
    "    \n",
    "    \n",
    "output_collection = 'u/scichris/latiss_230310_run/wep_with_transpose_'\n",
    "butler = Butler(\n",
    "    \"/sdf/data/rubin/repo/embargo/\",\n",
    "    collections=[output_collection],\n",
    "    instrument='LATISS'\n",
    ")\n",
    "\n",
    "for axis in 'xyz':\n",
    "    plot_sens_rot(axis=axis, add_angle=90, mult_angle = -1, verbose=False)"
   ]
  },
  {
   "cell_type": "markdown",
   "id": "25f230b0",
   "metadata": {},
   "source": [
    "# Summary\n",
    "\n",
    "We obtained an estimate of the sensitivity matrix using the 2023-03-10 auxiliary telescope data. The resulting wavefront estimates (coefficients of Noll Zernike polynomials) from `ts_wep` were derotated using the information about the rotator and elevation angle. As a sanity check, we ensured that the rotationally-invariant total moments of each optical aberration (total coma, total trefoil) were identical between the original and derotated datasets. Plotting the derotated Zernike coefficients as a function of hexapod displacement `dx`, `dy`, `dz`,  we obtained the sensitivity matrix that describes the amount of `mm` of hexapod motion needed to correct a value  in `nm` of given Zernike coefficient. Currently WEP estimates annular Noll Zernikes 4-22, yet the sensitivity matrix only includes Z4 (defocus), Z7 (coma-x) and Z8 (coma-y). Future improvements to this work could entail inclusion of more terms of Zernikes polynomial in the sensitivity matrix, as well as an estimate of uncertainty in the estimate of each Zernike mode.   "
   ]
  }
 ],
 "metadata": {
  "kernelspec": {
   "display_name": "Python 3 (ipykernel)",
   "language": "python",
   "name": "python3"
  },
  "language_info": {
   "codemirror_mode": {
    "name": "ipython",
    "version": 3
   },
   "file_extension": ".py",
   "mimetype": "text/x-python",
   "name": "python",
   "nbconvert_exporter": "python",
   "pygments_lexer": "ipython3",
   "version": "3.10.10"
  }
 },
 "nbformat": 4,
 "nbformat_minor": 5
}
